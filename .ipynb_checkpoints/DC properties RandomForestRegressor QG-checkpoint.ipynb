{
 "cells": [
  {
   "cell_type": "code",
   "execution_count": 1,
   "metadata": {},
   "outputs": [],
   "source": [
    "import pandas as pd\n",
    "import numpy as np\n",
    "import matplotlib.pyplot as plt"
   ]
  },
  {
   "cell_type": "code",
   "execution_count": 2,
   "metadata": {},
   "outputs": [
    {
     "name": "stderr",
     "output_type": "stream",
     "text": [
      "C:\\Users\\gq_wh\\Anaconda3\\lib\\site-packages\\IPython\\core\\interactiveshell.py:3020: DtypeWarning: Columns (18,19,20,21,22,23,24,33,34,35,37,43,45) have mixed types. Specify dtype option on import or set low_memory=False.\n",
      "  interactivity=interactivity, compiler=compiler, result=result)\n"
     ]
    }
   ],
   "source": [
    "data_DC = pd.read_csv('DC_Properties.csv')"
   ]
  },
  {
   "cell_type": "code",
   "execution_count": 3,
   "metadata": {},
   "outputs": [],
   "source": [
    "# data clean for machine learning\n",
    "data_res = data_DC[data_DC[\"SOURCE\"] == \"Residential\"]\n",
    "data_qua = data_res[data_res[\"QUALIFIED\"] == 'Q']\n",
    "data_limited = data_qua[(data_qua['STORIES'] < 6) & (data_qua['PRICE'] >99000) & (data_qua['PRICE'] <5000000) & (data_qua['SALEDATE'] > '2013-07-01')]\n",
    "data_ml = data_limited.drop(['NUM_UNITS','AYB','YR_RMDL','SALE_NUM','BLDG_NUM','GIS_LAST_MOD_DTTM','CMPLX_NUM','LIVING_GBA','CITY',\n",
    "                    'STATE','NATIONALGRID','FULLADDRESS','ASSESSMENT_NBHD','ASSESSMENT_SUBNBHD','CENSUS_TRACT','CENSUS_BLOCK',\n",
    "                    'WARD','SQUARE','X','Y','SOURCE','QUALIFIED','Unnamed: 0','LATITUDE','LONGITUDE', 'STYLE','SALEDATE'], axis=1)"
   ]
  },
  {
   "cell_type": "code",
   "execution_count": 4,
   "metadata": {},
   "outputs": [],
   "source": [
    "# change GRADE and CNDTN to ranking \n",
    "encoding = {'GRADE':{'Very Good':4, 'Above Average':6, 'Good Quality':3, 'Excellent':8, 'Average':5, 'Superior':7,\n",
    "                     'Fair Quality':2, 'Exceptional-D':12, 'Exceptional-C':11, 'Low Quality':1, 'Exceptional-A':9,\n",
    "                     'Exceptional-B':10, 'No Data':0},\n",
    "            'CNDTN':{'Good':4, 'Very Good':5, 'Average':3, 'Fair':2, 'Excellent':6, 'Poor':1, 'Default':0}}\n",
    "\n",
    "data_ml_encoding=data_ml.replace(encoding)"
   ]
  },
  {
   "cell_type": "code",
   "execution_count": 5,
   "metadata": {
    "scrolled": true
   },
   "outputs": [],
   "source": [
    "# generate dummy variables for string value\n",
    "data_ml_dummy = pd.get_dummies(data_ml_encoding, columns=['HEAT','AC','STRUCT','EXTWALL','ROOF','INTWALL','USECODE','ZIPCODE','QUADRANT'])\n",
    "data_ml_dummy = data_ml_dummy.dropna()"
   ]
  },
  {
   "cell_type": "code",
   "execution_count": 6,
   "metadata": {
    "scrolled": false
   },
   "outputs": [
    {
     "name": "stderr",
     "output_type": "stream",
     "text": [
      "C:\\Users\\gq_wh\\Anaconda3\\lib\\site-packages\\sklearn\\model_selection\\_split.py:2179: FutureWarning: From version 0.21, test_size will always complement train_size unless both are specified.\n",
      "  FutureWarning)\n"
     ]
    }
   ],
   "source": [
    "# machine learning using RandomForestRegressor\n",
    "from sklearn.model_selection import train_test_split\n",
    "from sklearn.preprocessing import StandardScaler\n",
    "from sklearn.ensemble import RandomForestRegressor\n",
    "\n",
    "X = data_ml_dummy.drop(['PRICE'], axis=1).values\n",
    "y = data_ml_dummy[\"PRICE\"].values.reshape(-1, 1)\n",
    "\n",
    "X_train, X_test, y_train, y_test = train_test_split(X, y, train_size=0.8, random_state = 42)\n",
    "X_scaler = StandardScaler().fit(X_train)\n",
    "X_train_scaled = X_scaler.transform(X_train)\n",
    "X_test_scaled = X_scaler.transform(X_test)"
   ]
  },
  {
   "cell_type": "code",
   "execution_count": 7,
   "metadata": {},
   "outputs": [
    {
     "name": "stderr",
     "output_type": "stream",
     "text": [
      "C:\\Users\\gq_wh\\Anaconda3\\lib\\site-packages\\ipykernel_launcher.py:2: DataConversionWarning: A column-vector y was passed when a 1d array was expected. Please change the shape of y to (n_samples,), for example using ravel().\n",
      "  \n"
     ]
    }
   ],
   "source": [
    "rf = RandomForestRegressor(n_estimators=200)\n",
    "rf = rf.fit(X_train_scaled, y_train)"
   ]
  },
  {
   "cell_type": "code",
   "execution_count": 8,
   "metadata": {},
   "outputs": [
    {
     "data": {
      "text/plain": [
       "[(0.5188716149292958, 'GRADE'),\n",
       " (0.21058577248237445, 'GBA'),\n",
       " (0.03270400878769215, 'CNDTN'),\n",
       " (0.03148028895111677, 'EYB'),\n",
       " (0.030281610757968598, 'ZIPCODE_20019.0'),\n",
       " (0.023356245283830453, 'LANDAREA'),\n",
       " (0.01662604758785998, 'ZIPCODE_20020.0'),\n",
       " (0.01245202802085965, 'BATHRM'),\n",
       " (0.011171569107573796, 'ZIPCODE_20032.0'),\n",
       " (0.01082906208771543, 'FIREPLACES'),\n",
       " (0.008625623747701866, 'ROOMS'),\n",
       " (0.0066194222153667095, 'ZIPCODE_20011.0'),\n",
       " (0.005720110503577644, 'BEDRM'),\n",
       " (0.005021820708409963, 'STORIES'),\n",
       " (0.004784916142055623, 'ZIPCODE_20009.0'),\n",
       " (0.004157108684740812, 'ZIPCODE_20007.0'),\n",
       " (0.003945820730966502, 'QUADRANT_NE'),\n",
       " (0.003231313585447712, 'ZIPCODE_20012.0'),\n",
       " (0.0032003103002878007, 'ZIPCODE_20018.0'),\n",
       " (0.002924414863473157, 'KITCHENS'),\n",
       " (0.0028552179959364984, 'HF_BATHRM'),\n",
       " (0.0024201338168413334, 'ROOF_Metal- Sms'),\n",
       " (0.002173792904469202, 'ZIPCODE_20003.0'),\n",
       " (0.002095621254417431, 'USECODE_24'),\n",
       " (0.0020018663393874697, 'ZIPCODE_20008.0'),\n",
       " (0.0018933300481219697, 'ROOF_Comp Shingle'),\n",
       " (0.0016607146633430773, 'ZIPCODE_20002.0'),\n",
       " (0.001638904297198538, 'ROOF_Built Up'),\n",
       " (0.0015344920437474225, 'EXTWALL_Common Brick'),\n",
       " (0.001520377571091174, 'HEAT_Forced Air'),\n",
       " (0.0014953819299783786, 'ZIPCODE_20001.0'),\n",
       " (0.001464810927514673, 'USECODE_11'),\n",
       " (0.0014469069714842379, 'ZIPCODE_20016.0'),\n",
       " (0.0013801854162492522, 'STRUCT_Row Inside'),\n",
       " (0.0013395415228271347, 'HEAT_Warm Cool'),\n",
       " (0.0012990351207911607, 'ZIPCODE_20015.0'),\n",
       " (0.0012290886341217693, 'USECODE_13'),\n",
       " (0.0011798110451037354, 'HEAT_Hot Water Rad'),\n",
       " (0.0011492164944146754, 'ZIPCODE_20005.0'),\n",
       " (0.0010580770346543347, 'ROOF_Slate'),\n",
       " (0.0010516314079282662, 'STRUCT_Row End'),\n",
       " (0.001051253607161336, 'STRUCT_Semi-Detached'),\n",
       " (0.0010246155899573447, 'QUADRANT_NW'),\n",
       " (0.0009544136001881923, 'EXTWALL_Brick Veneer'),\n",
       " (0.0009249986257385233, 'ZIPCODE_20036.0'),\n",
       " (0.0008705766985400041, 'EXTWALL_Stucco'),\n",
       " (0.0008583069181259726, 'INTWALL_Hardwood'),\n",
       " (0.0008294148864873658, 'AC_N'),\n",
       " (0.0007483947973632725, 'STRUCT_Single'),\n",
       " (0.0007465488730548566, 'ROOF_Neopren'),\n",
       " (0.0007246953390478998, 'QUADRANT_SE'),\n",
       " (0.0007194155369116671, 'INTWALL_Wood Floor'),\n",
       " (0.0007190987936680201, 'USECODE_12'),\n",
       " (0.0006889245823993292, 'EXTWALL_Wood Siding'),\n",
       " (0.0006813982977886194, 'AC_Y'),\n",
       " (0.0006753899924470215, 'INTWALL_Hardwood/Carp'),\n",
       " (0.0006456728403619049, 'EXTWALL_Stone'),\n",
       " (0.0005770039361566933, 'ZIPCODE_20010.0'),\n",
       " (0.0005623887962604126, 'ZIPCODE_20017.0'),\n",
       " (0.00047949387458161226, 'STRUCT_Multi'),\n",
       " (0.0004497638741341, 'ZIPCODE_20037.0'),\n",
       " (0.00040173249529560875, 'EXTWALL_Brick/Siding'),\n",
       " (0.00039829286681254905, 'INTWALL_Resiliant'),\n",
       " (0.0003167130720553807, 'USECODE_23'),\n",
       " (0.00031609589481175563, 'EXTWALL_Vinyl Siding'),\n",
       " (0.0003026558182970596, 'HEAT_Ht Pump'),\n",
       " (0.00026856392551814724, 'ROOF_Clay Tile'),\n",
       " (0.00024741761201751267, 'EXTWALL_Stone/Stucco'),\n",
       " (0.00023107105096017522, 'EXTWALL_Brick/Stone'),\n",
       " (0.0002306639940693525, 'EXTWALL_Face Brick'),\n",
       " (0.0002138985365192148, 'EXTWALL_Shingle'),\n",
       " (0.00018966222948258208, 'EXTWALL_Aluminum'),\n",
       " (0.00016489444973606708, 'EXTWALL_Hardboard'),\n",
       " (0.00014797435291375355, 'ROOF_Shingle'),\n",
       " (0.00014204552427811106, 'ROOF_Shake'),\n",
       " (0.00014009216220253856, 'EXTWALL_Brick/Stucco'),\n",
       " (0.00013799542910808746, 'INTWALL_Carpet'),\n",
       " (9.705445591332408e-05, 'ROOF_Metal- Pre'),\n",
       " (8.808414901953932e-05, 'EXTWALL_Stone/Siding'),\n",
       " (8.038084726490327e-05, 'HEAT_Wall Furnace'),\n",
       " (7.908216429653262e-05, 'HEAT_Water Base Brd'),\n",
       " (6.751179564273258e-05, 'ZIPCODE_20024.0'),\n",
       " (6.700358894542411e-05, 'QUADRANT_SW'),\n",
       " (5.9936802888134995e-05, 'EXTWALL_Stone Veneer'),\n",
       " (3.2732443158144476e-05, 'HEAT_Evp Cool'),\n",
       " (3.153901332034947e-05, 'INTWALL_Default'),\n",
       " (3.093408160053294e-05, 'ROOF_Composition Ro'),\n",
       " (1.8677835709082588e-05, 'ROOF_Typical'),\n",
       " (1.184035866271767e-05, 'EXTWALL_Stucco Block'),\n",
       " (9.524184944139936e-06, 'ROOF_Metal- Cpr'),\n",
       " (8.517636219032933e-06, 'INTWALL_Ceramic Tile'),\n",
       " (7.542410505567816e-06, 'INTWALL_Lt Concrete'),\n",
       " (7.542249713671947e-06, 'STRUCT_Town Inside'),\n",
       " (6.554423334899384e-06, 'USECODE_15'),\n",
       " (5.7242612671690404e-06, 'USECODE_19'),\n",
       " (5.596286873159413e-06, 'HEAT_Air-Oil'),\n",
       " (4.770582123056751e-06, 'EXTWALL_Concrete'),\n",
       " (3.64458125158719e-06, 'EXTWALL_Metal Siding'),\n",
       " (3.5817659076936927e-06, 'HEAT_Elec Base Brd'),\n",
       " (2.8504891801206478e-06, 'HEAT_No Data'),\n",
       " (2.6012015424568015e-06, 'EXTWALL_Concrete Block'),\n",
       " (2.0774349350333807e-06, 'INTWALL_Parquet'),\n",
       " (1.802182043136806e-06, 'STRUCT_Town End'),\n",
       " (1.793021227326443e-06, 'AC_0'),\n",
       " (1.0008438481439472e-06, 'HEAT_Gravity Furnac'),\n",
       " (3.795191092730257e-07, 'HEAT_Air Exchng'),\n",
       " (2.613179790756557e-07, 'INTWALL_Vinyl Comp'),\n",
       " (2.497804616555812e-07, 'ROOF_Wood- FS'),\n",
       " (1.875498662288306e-07, 'HEAT_Electric Rad'),\n",
       " (1.0411199524854092e-07, 'EXTWALL_Default'),\n",
       " (8.82445973874897e-08, 'STRUCT_Default'),\n",
       " (4.259226497146869e-08, 'ROOF_Concrete'),\n",
       " (0.0, 'USECODE_39'),\n",
       " (0.0, 'INTWALL_Terrazo'),\n",
       " (0.0, 'HEAT_Ind Unit')]"
      ]
     },
     "execution_count": 8,
     "metadata": {},
     "output_type": "execute_result"
    }
   ],
   "source": [
    "# check the feature imprtances\n",
    "data_ml_dummy_no_price=data_ml_dummy.drop(['PRICE'],axis=1)\n",
    "sorted(zip(rf.feature_importances_, data_ml_dummy_no_price.columns), reverse=True)"
   ]
  },
  {
   "cell_type": "code",
   "execution_count": 9,
   "metadata": {},
   "outputs": [
    {
     "data": {
      "text/plain": [
       "0.8621107022060842"
      ]
     },
     "execution_count": 9,
     "metadata": {},
     "output_type": "execute_result"
    }
   ],
   "source": [
    "rf.score(X_test_scaled, y_test)"
   ]
  },
  {
   "cell_type": "code",
   "execution_count": 10,
   "metadata": {},
   "outputs": [
    {
     "data": {
      "image/png": "[encoded data removed]",
      "text/plain": [
       "<Figure size 432x288 with 1 Axes>"
      ]
     },
     "metadata": {
      "needs_background": "light"
     },
     "output_type": "display_data"
    }
   ],
   "source": [
    "# generate plot for actual and predicted price\n",
    "Y_Pred_test=rf.predict(X_test_scaled)\n",
    "nndf=pd.DataFrame(y_test)\n",
    "nndf['PRED']=Y_Pred_test\n",
    "nndf=nndf.reset_index(drop=True)\n",
    "plt.plot(nndf.index,nndf[0])\n",
    "plt.plot(nndf.index,nndf['PRED'], color='red')\n",
    "plt.xlabel('Index')\n",
    "plt.ylabel('Price-test')\n",
    "plt.title('Actual (Blue) vs Predicted (Red)')\n",
    "plt.show()"
   ]
  },
  {
   "cell_type": "code",
   "execution_count": 11,
   "metadata": {},
   "outputs": [
    {
     "data": {
      "text/html": [
       "<div>\n",
       "<style scoped>\n",
       "    .dataframe tbody tr th:only-of-type {\n",
       "        vertical-align: middle;\n",
       "    }\n",
       "\n",
       "    .dataframe tbody tr th {\n",
       "        vertical-align: top;\n",
       "    }\n",
       "\n",
       "    .dataframe thead th {\n",
       "        text-align: right;\n",
       "    }\n",
       "</style>\n",
       "<table border=\"1\" class=\"dataframe\">\n",
       "  <thead>\n",
       "    <tr style=\"text-align: right;\">\n",
       "      <th></th>\n",
       "      <th>ACT</th>\n",
       "      <th>PRED</th>\n",
       "    </tr>\n",
       "  </thead>\n",
       "  <tbody>\n",
       "    <tr>\n",
       "      <th>0</th>\n",
       "      <td>835000.0</td>\n",
       "      <td>8.932029e+05</td>\n",
       "    </tr>\n",
       "    <tr>\n",
       "      <th>1</th>\n",
       "      <td>909000.0</td>\n",
       "      <td>9.970222e+05</td>\n",
       "    </tr>\n",
       "    <tr>\n",
       "      <th>2</th>\n",
       "      <td>435000.0</td>\n",
       "      <td>5.134604e+05</td>\n",
       "    </tr>\n",
       "    <tr>\n",
       "      <th>3</th>\n",
       "      <td>284900.0</td>\n",
       "      <td>2.850509e+05</td>\n",
       "    </tr>\n",
       "    <tr>\n",
       "      <th>4</th>\n",
       "      <td>495000.0</td>\n",
       "      <td>6.742527e+05</td>\n",
       "    </tr>\n",
       "    <tr>\n",
       "      <th>5</th>\n",
       "      <td>1325000.0</td>\n",
       "      <td>1.118650e+06</td>\n",
       "    </tr>\n",
       "    <tr>\n",
       "      <th>6</th>\n",
       "      <td>1182000.0</td>\n",
       "      <td>1.431068e+06</td>\n",
       "    </tr>\n",
       "    <tr>\n",
       "      <th>7</th>\n",
       "      <td>325000.0</td>\n",
       "      <td>5.118700e+05</td>\n",
       "    </tr>\n",
       "    <tr>\n",
       "      <th>8</th>\n",
       "      <td>849900.0</td>\n",
       "      <td>6.837280e+05</td>\n",
       "    </tr>\n",
       "    <tr>\n",
       "      <th>9</th>\n",
       "      <td>1050000.0</td>\n",
       "      <td>9.256854e+05</td>\n",
       "    </tr>\n",
       "  </tbody>\n",
       "</table>\n",
       "</div>"
      ],
      "text/plain": [
       "         ACT          PRED\n",
       "0   835000.0  8.932029e+05\n",
       "1   909000.0  9.970222e+05\n",
       "2   435000.0  5.134604e+05\n",
       "3   284900.0  2.850509e+05\n",
       "4   495000.0  6.742527e+05\n",
       "5  1325000.0  1.118650e+06\n",
       "6  1182000.0  1.431068e+06\n",
       "7   325000.0  5.118700e+05\n",
       "8   849900.0  6.837280e+05\n",
       "9  1050000.0  9.256854e+05"
      ]
     },
     "execution_count": 11,
     "metadata": {},
     "output_type": "execute_result"
    }
   ],
   "source": [
    "nndf.rename({0:'ACT'}, axis=1, inplace=True)\n",
    "nndf.head(10)"
   ]
  },
  {
   "cell_type": "code",
   "execution_count": 12,
   "metadata": {},
   "outputs": [],
   "source": [
    "# predict all residential houses including unqualified housing.Drop all machine-learning-unrelated features including 'PRICE'. \n",
    "# Keep the index 'Unnamed: 0' for further join\n",
    "data_predict_all = data_res.drop(['NUM_UNITS','AYB','YR_RMDL','SALE_NUM','BLDG_NUM','GIS_LAST_MOD_DTTM','CMPLX_NUM','LIVING_GBA','CITY',\n",
    "                    'STATE','NATIONALGRID','FULLADDRESS','ASSESSMENT_NBHD','ASSESSMENT_SUBNBHD','CENSUS_TRACT','CENSUS_BLOCK',\n",
    "                    'WARD','SQUARE','X','Y','SOURCE','QUALIFIED','LATITUDE','LONGITUDE', 'STYLE','SALEDATE','PRICE'], axis=1)"
   ]
  },
  {
   "cell_type": "code",
   "execution_count": 13,
   "metadata": {},
   "outputs": [],
   "source": [
    "data_predict_all_no_null=data_predict_all.dropna()"
   ]
  },
  {
   "cell_type": "code",
   "execution_count": 14,
   "metadata": {},
   "outputs": [
    {
     "name": "stdout",
     "output_type": "stream",
     "text": [
      "Unnamed: 0\n",
      "STRUCT_Vacant Land\n",
      "EXTWALL_Adobe\n",
      "EXTWALL_Plywood\n",
      "EXTWALL_Rustic Log\n",
      "EXTWALL_SPlaster\n",
      "ROOF_Concrete Tile\n",
      "ROOF_Water Proof\n",
      "INTWALL_Vinyl Sheet\n",
      "USECODE_41\n",
      "USECODE_81\n",
      "USECODE_83\n",
      "ZIPCODE_20006.0\n",
      "ZIPCODE_20052.0\n"
     ]
    }
   ],
   "source": [
    "# find values weren't in the machine learning model\n",
    "data_encoding_tem=data_predict_all_no_null.replace(encoding)\n",
    "data_dummy_tem = pd.get_dummies(data_encoding_tem, columns=['HEAT','AC','STRUCT','EXTWALL','ROOF','INTWALL','USECODE',\n",
    "                                                    'ZIPCODE','QUADRANT'])\n",
    "data_ml_columns=list(data_ml_dummy.drop('PRICE', axis=1).columns)\n",
    "data_columns=list(data_dummy_tem.columns)\n",
    "for column in data_columns:\n",
    "    if column not in data_ml_columns:\n",
    "        print (column)"
   ]
  },
  {
   "cell_type": "code",
   "execution_count": 15,
   "metadata": {},
   "outputs": [],
   "source": [
    "# delete rows with values weren't in the machine learning model\n",
    "df = data_predict_all_no_null[(data_predict_all_no_null[\"STRUCT\"] != 'Vacant Land') & \n",
    "                              (data_predict_all_no_null[\"EXTWALL\"] != 'Adobe') & \n",
    "                              (data_predict_all_no_null[\"EXTWALL\"] != 'Plywood') & \n",
    "                              (data_predict_all_no_null[\"EXTWALL\"] != 'Rustic Log') & \n",
    "                              (data_predict_all_no_null[\"EXTWALL\"] != 'SPlaster') & \n",
    "                              (data_predict_all_no_null[\"ROOF\"] != 'Concrete Tile') & \n",
    "                              (data_predict_all_no_null[\"ROOF\"] != 'Water Proof') & \n",
    "                              (data_predict_all_no_null[\"INTWALL\"] != 'Vinyl Sheet') & \n",
    "                              (data_predict_all_no_null[\"USECODE\"] != 41) & \n",
    "                              (data_predict_all_no_null[\"USECODE\"] != 81) & \n",
    "                              (data_predict_all_no_null[\"USECODE\"] != 83) & \n",
    "                              (data_predict_all_no_null[\"ZIPCODE\"] != 20006.0) &\n",
    "                              (data_predict_all_no_null[\"ZIPCODE\"] != 20052.0) ]"
   ]
  },
  {
   "cell_type": "code",
   "execution_count": 16,
   "metadata": {},
   "outputs": [],
   "source": [
    "# encoding and make dummies\n",
    "df_no_index = df.drop('Unnamed: 0', axis=1)\n",
    "df_encoding = df_no_index.replace(encoding)\n",
    "df_dummy = pd.get_dummies(df_encoding, columns=['HEAT','AC','STRUCT','EXTWALL','ROOF','INTWALL','USECODE','ZIPCODE',\n",
    "                                                'QUADRANT'])"
   ]
  },
  {
   "cell_type": "code",
   "execution_count": 17,
   "metadata": {},
   "outputs": [
    {
     "data": {
      "text/plain": [
       "array([1449227.5  , 1449107.5  , 2158464.375, ...,  208608.9  ,\n",
       "        340677.925,  363781.045])"
      ]
     },
     "execution_count": 17,
     "metadata": {},
     "output_type": "execute_result"
    }
   ],
   "source": [
    "X_pre_all = df_dummy.values\n",
    "X_pre_all_scaled = X_scaler.transform(X_pre_all)\n",
    "Y_Pre_all=rf.predict(X_pre_all_scaled)\n",
    "Y_Pre_all"
   ]
  },
  {
   "cell_type": "code",
   "execution_count": 18,
   "metadata": {},
   "outputs": [
    {
     "name": "stderr",
     "output_type": "stream",
     "text": [
      "C:\\Users\\gq_wh\\Anaconda3\\lib\\site-packages\\ipykernel_launcher.py:1: SettingWithCopyWarning: \n",
      "A value is trying to be set on a copy of a slice from a DataFrame.\n",
      "Try using .loc[row_indexer,col_indexer] = value instead\n",
      "\n",
      "See the caveats in the documentation: http://pandas.pydata.org/pandas-docs/stable/indexing.html#indexing-view-versus-copy\n",
      "  \"\"\"Entry point for launching an IPython kernel.\n"
     ]
    }
   ],
   "source": [
    "df['PRICE']=Y_Pre_all"
   ]
  },
  {
   "cell_type": "code",
   "execution_count": 19,
   "metadata": {},
   "outputs": [],
   "source": [
    "df_index_price=df[['Unnamed: 0','PRICE']]"
   ]
  },
  {
   "cell_type": "code",
   "execution_count": 20,
   "metadata": {},
   "outputs": [],
   "source": [
    "final_pre = pd.merge(data_DC, df_index_price, on='Unnamed: 0', how='inner')"
   ]
  },
  {
   "cell_type": "code",
   "execution_count": 21,
   "metadata": {},
   "outputs": [],
   "source": [
    "final_pre.to_csv(\"final predicted.csv\")"
   ]
  },
  {
   "cell_type": "code",
   "execution_count": null,
   "metadata": {},
   "outputs": [],
   "source": []
  }
 ],
 "metadata": {
  "kernelspec": {
   "display_name": "Python 3",
   "language": "python",
   "name": "python3"
  },
  "language_info": {
   "codemirror_mode": {
    "name": "ipython",
    "version": 3
   },
   "file_extension": ".py",
   "mimetype": "text/x-python",
   "name": "python",
   "nbconvert_exporter": "python",
   "pygments_lexer": "ipython3",
   "version": "3.7.1"
  }
 },
 "nbformat": 4,
 "nbformat_minor": 2
}
