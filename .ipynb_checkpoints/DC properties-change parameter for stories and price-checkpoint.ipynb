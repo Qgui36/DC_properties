{
 "cells": [
  {
   "cell_type": "code",
   "execution_count": 1,
   "metadata": {},
   "outputs": [],
   "source": [
    "import pandas as pd\n",
    "import numpy as np\n",
    "import matplotlib.pyplot as plt"
   ]
  },
  {
   "cell_type": "code",
   "execution_count": 2,
   "metadata": {},
   "outputs": [
    {
     "name": "stderr",
     "output_type": "stream",
     "text": [
      "C:\\Users\\gq_wh\\Anaconda3\\lib\\site-packages\\IPython\\core\\interactiveshell.py:3020: DtypeWarning: Columns (18,19,20,21,22,23,24,33,34,35,37,43,45) have mixed types. Specify dtype option on import or set low_memory=False.\n",
      "  interactivity=interactivity, compiler=compiler, result=result)\n"
     ]
    }
   ],
   "source": [
    "data_DC = pd.read_csv('DC_Properties.csv')"
   ]
  },
  {
   "cell_type": "code",
   "execution_count": 3,
   "metadata": {},
   "outputs": [],
   "source": [
    "# data clean for machine learning\n",
    "data_res = data_DC[data_DC[\"SOURCE\"] == \"Residential\"]\n",
    "data_qua = data_res[data_res[\"QUALIFIED\"] == 'Q']\n",
    "data_limited = data_qua[(data_qua['STORIES'] < 6) & (data_qua['PRICE'] >99000) & (data_qua['PRICE'] <5000000) & (data_qua['SALEDATE'] > '2013-07-01')]\n",
    "data_ml = data_limited.drop(['NUM_UNITS','AYB','YR_RMDL','SALE_NUM','BLDG_NUM','GIS_LAST_MOD_DTTM','CMPLX_NUM','LIVING_GBA','CITY',\n",
    "                    'STATE','NATIONALGRID','FULLADDRESS','ASSESSMENT_NBHD','ASSESSMENT_SUBNBHD','CENSUS_TRACT','CENSUS_BLOCK',\n",
    "                    'WARD','SQUARE','X','Y','SOURCE','QUALIFIED','Unnamed: 0','LATITUDE','LONGITUDE', 'STYLE','SALEDATE'], axis=1)"
   ]
  },
  {
   "cell_type": "code",
   "execution_count": 4,
   "metadata": {},
   "outputs": [],
   "source": [
    "# change GRADE and CNDTN to ranking \n",
    "encoding = {'GRADE':{'Very Good':4, 'Above Average':6, 'Good Quality':3, 'Excellent':8, 'Average':5, 'Superior':7,\n",
    "                     'Fair Quality':2, 'Exceptional-D':12, 'Exceptional-C':11, 'Low Quality':1, 'Exceptional-A':9,\n",
    "                     'Exceptional-B':10, 'No Data':0},\n",
    "            'CNDTN':{'Good':4, 'Very Good':5, 'Average':3, 'Fair':2, 'Excellent':6, 'Poor':1, 'Default':0}}\n",
    "\n",
    "data_ml_encoding=data_ml.replace(encoding)"
   ]
  },
  {
   "cell_type": "code",
   "execution_count": 5,
   "metadata": {
    "scrolled": true
   },
   "outputs": [],
   "source": [
    "# generate dummy variables for string value\n",
    "data_ml_dummy = pd.get_dummies(data_ml_encoding, columns=['HEAT','AC','STRUCT','EXTWALL','ROOF','INTWALL','USECODE','ZIPCODE','QUADRANT'])\n",
    "data_ml_dummy = data_ml_dummy.dropna()"
   ]
  },
  {
   "cell_type": "code",
   "execution_count": 6,
   "metadata": {
    "scrolled": false
   },
   "outputs": [
    {
     "name": "stderr",
     "output_type": "stream",
     "text": [
      "C:\\Users\\gq_wh\\Anaconda3\\lib\\site-packages\\sklearn\\model_selection\\_split.py:2179: FutureWarning: From version 0.21, test_size will always complement train_size unless both are specified.\n",
      "  FutureWarning)\n"
     ]
    }
   ],
   "source": [
    "# machine learning using RandomForestRegressor\n",
    "from sklearn.model_selection import train_test_split\n",
    "from sklearn.preprocessing import StandardScaler\n",
    "from sklearn.ensemble import RandomForestRegressor\n",
    "\n",
    "X = data_ml_dummy.drop(['PRICE'], axis=1).values\n",
    "y = data_ml_dummy[\"PRICE\"].values.reshape(-1, 1)\n",
    "\n",
    "X_train, X_test, y_train, y_test = train_test_split(X, y, train_size=0.8, random_state = 42)\n",
    "X_scaler = StandardScaler().fit(X_train)\n",
    "X_train_scaled = X_scaler.transform(X_train)\n",
    "X_test_scaled = X_scaler.transform(X_test)"
   ]
  },
  {
   "cell_type": "code",
   "execution_count": 7,
   "metadata": {},
   "outputs": [
    {
     "name": "stderr",
     "output_type": "stream",
     "text": [
      "C:\\Users\\gq_wh\\Anaconda3\\lib\\site-packages\\ipykernel_launcher.py:2: DataConversionWarning: A column-vector y was passed when a 1d array was expected. Please change the shape of y to (n_samples,), for example using ravel().\n",
      "  \n"
     ]
    }
   ],
   "source": [
    "rf = RandomForestRegressor(n_estimators=200)\n",
    "rf = rf.fit(X_train_scaled, y_train)"
   ]
  },
  {
   "cell_type": "code",
   "execution_count": 8,
   "metadata": {},
   "outputs": [
    {
     "data": {
      "text/plain": [
       "[(0.5177447748626112, 'GRADE'),\n",
       " (0.21091057356385318, 'GBA'),\n",
       " (0.03242334172837509, 'CNDTN'),\n",
       " (0.030596535268419624, 'EYB'),\n",
       " (0.030385570247406977, 'ZIPCODE_20019.0'),\n",
       " (0.02342893448116679, 'LANDAREA'),\n",
       " (0.01664924818479473, 'ZIPCODE_20020.0'),\n",
       " (0.012267950489507058, 'BATHRM'),\n",
       " (0.01120513813062844, 'ZIPCODE_20032.0'),\n",
       " (0.010979777261743985, 'FIREPLACES'),\n",
       " (0.008686819391329263, 'ROOMS'),\n",
       " (0.006694802284942317, 'ZIPCODE_20011.0'),\n",
       " (0.005676007091352608, 'BEDRM'),\n",
       " (0.005329905783797512, 'STORIES'),\n",
       " (0.004850018279896609, 'ZIPCODE_20009.0'),\n",
       " (0.0043641525581109755, 'ZIPCODE_20007.0'),\n",
       " (0.004005255125158971, 'QUADRANT_NE'),\n",
       " (0.003688206991305698, 'ZIPCODE_20018.0'),\n",
       " (0.003195806592219017, 'ZIPCODE_20012.0'),\n",
       " (0.003088041361386855, 'KITCHENS'),\n",
       " (0.002789350516682565, 'HF_BATHRM'),\n",
       " (0.002471337506101664, 'ROOF_Metal- Sms'),\n",
       " (0.002132425101616341, 'ROOF_Comp Shingle'),\n",
       " (0.0021095895768091536, 'USECODE_24'),\n",
       " (0.002054576222349238, 'ZIPCODE_20003.0'),\n",
       " (0.0019831702370235855, 'ZIPCODE_20008.0'),\n",
       " (0.0016287614521626015, 'ZIPCODE_20002.0'),\n",
       " (0.0016115345520322055, 'ROOF_Built Up'),\n",
       " (0.0015643915348089118, 'ZIPCODE_20016.0'),\n",
       " (0.0015434739716340955, 'USECODE_11'),\n",
       " (0.001499258197096209, 'HEAT_Forced Air'),\n",
       " (0.0014834308773703992, 'ZIPCODE_20001.0'),\n",
       " (0.0014710570689829372, 'EXTWALL_Common Brick'),\n",
       " (0.0014130212908108298, 'STRUCT_Row Inside'),\n",
       " (0.0013609671268913106, 'ZIPCODE_20015.0'),\n",
       " (0.0013445842606347753, 'HEAT_Warm Cool'),\n",
       " (0.0012280114156635264, 'HEAT_Hot Water Rad'),\n",
       " (0.0012096457111010186, 'ZIPCODE_20005.0'),\n",
       " (0.0011509731493709006, 'ROOF_Slate'),\n",
       " (0.0011466742969893117, 'USECODE_13'),\n",
       " (0.0010932251391354046, 'STRUCT_Row End'),\n",
       " (0.001061081307057471, 'STRUCT_Semi-Detached'),\n",
       " (0.0010271522629372405, 'EXTWALL_Brick Veneer'),\n",
       " (0.0009687126316805456, 'QUADRANT_NW'),\n",
       " (0.0009010717769067881, 'EXTWALL_Stucco'),\n",
       " (0.0008674451439356773, 'ZIPCODE_20036.0'),\n",
       " (0.0008518620946445052, 'INTWALL_Hardwood'),\n",
       " (0.00079294540387275, 'ROOF_Neopren'),\n",
       " (0.0007587996545694563, 'AC_Y'),\n",
       " (0.0007549834508997564, 'AC_N'),\n",
       " (0.0007375400062694577, 'QUADRANT_SE'),\n",
       " (0.0007328722339731586, 'STRUCT_Single'),\n",
       " (0.0007190440130463437, 'EXTWALL_Wood Siding'),\n",
       " (0.000693541514880802, 'USECODE_12'),\n",
       " (0.0006785762984196234, 'INTWALL_Wood Floor'),\n",
       " (0.0006702737779987765, 'INTWALL_Hardwood/Carp'),\n",
       " (0.0005868913242905928, 'ZIPCODE_20010.0'),\n",
       " (0.0005651672781293145, 'EXTWALL_Stone'),\n",
       " (0.0005268190059983915, 'ZIPCODE_20017.0'),\n",
       " (0.00047320782386352066, 'STRUCT_Multi'),\n",
       " (0.0004570947251005375, 'ZIPCODE_20037.0'),\n",
       " (0.0003897000877925233, 'INTWALL_Resiliant'),\n",
       " (0.00038598499455267185, 'EXTWALL_Brick/Siding'),\n",
       " (0.00037911791258533244, 'USECODE_23'),\n",
       " (0.0003432385056186505, 'HEAT_Ht Pump'),\n",
       " (0.00033665763132470597, 'EXTWALL_Vinyl Siding'),\n",
       " (0.0002764396906436124, 'ROOF_Clay Tile'),\n",
       " (0.00024679406495255527, 'EXTWALL_Aluminum'),\n",
       " (0.0002418991920734627, 'EXTWALL_Stone/Stucco'),\n",
       " (0.00022561251128994198, 'EXTWALL_Face Brick'),\n",
       " (0.00021942810323774046, 'EXTWALL_Brick/Stone'),\n",
       " (0.00021103003049843287, 'EXTWALL_Shingle'),\n",
       " (0.00015057838717208056, 'EXTWALL_Hardboard'),\n",
       " (0.00014819146137593156, 'ROOF_Shingle'),\n",
       " (0.00014127449923111688, 'EXTWALL_Brick/Stucco'),\n",
       " (0.00013482739579531082, 'INTWALL_Carpet'),\n",
       " (0.00012514366213127866, 'ROOF_Shake'),\n",
       " (9.184998305003803e-05, 'HEAT_Water Base Brd'),\n",
       " (8.946019139211902e-05, 'EXTWALL_Stone/Siding'),\n",
       " (8.306052905659467e-05, 'ROOF_Metal- Pre'),\n",
       " (8.290941662484963e-05, 'HEAT_Wall Furnace'),\n",
       " (6.811594985632194e-05, 'QUADRANT_SW'),\n",
       " (6.712125783804487e-05, 'EXTWALL_Stone Veneer'),\n",
       " (6.672175212501797e-05, 'ZIPCODE_20024.0'),\n",
       " (3.67309792002537e-05, 'HEAT_Evp Cool'),\n",
       " (3.2220074548706075e-05, 'INTWALL_Default'),\n",
       " (3.113612318522948e-05, 'ROOF_Typical'),\n",
       " (2.4351935518074176e-05, 'ROOF_Composition Ro'),\n",
       " (1.2724764722311639e-05, 'ROOF_Metal- Cpr'),\n",
       " (1.1737886414387766e-05, 'INTWALL_Ceramic Tile'),\n",
       " (9.662673445906801e-06, 'EXTWALL_Stucco Block'),\n",
       " (8.640897878305728e-06, 'INTWALL_Lt Concrete'),\n",
       " (6.551879067783201e-06, 'USECODE_19'),\n",
       " (5.510722575956828e-06, 'EXTWALL_Concrete Block'),\n",
       " (4.6471588709402636e-06, 'STRUCT_Town Inside'),\n",
       " (4.477222644607476e-06, 'HEAT_Air-Oil'),\n",
       " (3.3730467088872934e-06, 'EXTWALL_Concrete'),\n",
       " (3.019985830626672e-06, 'HEAT_No Data'),\n",
       " (2.986649878516582e-06, 'USECODE_15'),\n",
       " (2.4284937027348345e-06, 'INTWALL_Parquet'),\n",
       " (2.220086206991819e-06, 'EXTWALL_Metal Siding'),\n",
       " (1.850854844749403e-06, 'HEAT_Elec Base Brd'),\n",
       " (1.6001193868044826e-06, 'STRUCT_Town End'),\n",
       " (1.2761249031330765e-06, 'AC_0'),\n",
       " (1.0814476352474217e-06, 'HEAT_Gravity Furnac'),\n",
       " (3.2969668501317955e-07, 'ROOF_Wood- FS'),\n",
       " (2.512505380658954e-07, 'HEAT_Air Exchng'),\n",
       " (2.3391495559992256e-07, 'INTWALL_Vinyl Comp'),\n",
       " (1.6838977240887517e-07, 'HEAT_Electric Rad'),\n",
       " (1.202732201264879e-07, 'STRUCT_Default'),\n",
       " (9.589015961091047e-08, 'EXTWALL_Default'),\n",
       " (1.3635532200170237e-08, 'ROOF_Concrete'),\n",
       " (0.0, 'USECODE_39'),\n",
       " (0.0, 'INTWALL_Terrazo'),\n",
       " (0.0, 'HEAT_Ind Unit')]"
      ]
     },
     "execution_count": 8,
     "metadata": {},
     "output_type": "execute_result"
    }
   ],
   "source": [
    "# check the feature imprtances\n",
    "data_ml_dummy_no_price=data_ml_dummy.drop(['PRICE'],axis=1)\n",
    "sorted(zip(rf.feature_importances_, data_ml_dummy_no_price.columns), reverse=True)"
   ]
  },
  {
   "cell_type": "code",
   "execution_count": 9,
   "metadata": {},
   "outputs": [
    {
     "data": {
      "text/plain": [
       "0.8635468007914214"
      ]
     },
     "execution_count": 9,
     "metadata": {},
     "output_type": "execute_result"
    }
   ],
   "source": [
    "rf.score(X_test_scaled, y_test)"
   ]
  },
  {
   "cell_type": "code",
   "execution_count": 10,
   "metadata": {},
   "outputs": [
    {
     "data": {
      "image/png": "[encoded data removed]",
      "text/plain": [
       "<Figure size 432x288 with 1 Axes>"
      ]
     },
     "metadata": {
      "needs_background": "light"
     },
     "output_type": "display_data"
    }
   ],
   "source": [
    "# generate plot for actual and predicted price\n",
    "Y_Pred_test=rf.predict(X_test_scaled)\n",
    "nndf=pd.DataFrame(y_test)\n",
    "nndf['PRED']=Y_Pred_test\n",
    "nndf=nndf.reset_index(drop=True)\n",
    "plt.plot(nndf.index,nndf[0])\n",
    "plt.plot(nndf.index,nndf['PRED'], color='red')\n",
    "plt.xlabel('Index')\n",
    "plt.ylabel('Price-test')\n",
    "plt.title('Actual (Blue) vs Predicted (Red)')\n",
    "plt.show()"
   ]
  },
  {
   "cell_type": "code",
   "execution_count": 11,
   "metadata": {},
   "outputs": [
    {
     "data": {
      "text/html": [
       "<div>\n",
       "<style scoped>\n",
       "    .dataframe tbody tr th:only-of-type {\n",
       "        vertical-align: middle;\n",
       "    }\n",
       "\n",
       "    .dataframe tbody tr th {\n",
       "        vertical-align: top;\n",
       "    }\n",
       "\n",
       "    .dataframe thead th {\n",
       "        text-align: right;\n",
       "    }\n",
       "</style>\n",
       "<table border=\"1\" class=\"dataframe\">\n",
       "  <thead>\n",
       "    <tr style=\"text-align: right;\">\n",
       "      <th></th>\n",
       "      <th>ACT</th>\n",
       "      <th>PRED</th>\n",
       "    </tr>\n",
       "  </thead>\n",
       "  <tbody>\n",
       "    <tr>\n",
       "      <th>0</th>\n",
       "      <td>835000.0</td>\n",
       "      <td>8.959907e+05</td>\n",
       "    </tr>\n",
       "    <tr>\n",
       "      <th>1</th>\n",
       "      <td>909000.0</td>\n",
       "      <td>9.793880e+05</td>\n",
       "    </tr>\n",
       "    <tr>\n",
       "      <th>2</th>\n",
       "      <td>435000.0</td>\n",
       "      <td>5.097504e+05</td>\n",
       "    </tr>\n",
       "    <tr>\n",
       "      <th>3</th>\n",
       "      <td>284900.0</td>\n",
       "      <td>2.851412e+05</td>\n",
       "    </tr>\n",
       "    <tr>\n",
       "      <th>4</th>\n",
       "      <td>495000.0</td>\n",
       "      <td>6.605050e+05</td>\n",
       "    </tr>\n",
       "    <tr>\n",
       "      <th>5</th>\n",
       "      <td>1325000.0</td>\n",
       "      <td>1.133468e+06</td>\n",
       "    </tr>\n",
       "    <tr>\n",
       "      <th>6</th>\n",
       "      <td>1182000.0</td>\n",
       "      <td>1.504414e+06</td>\n",
       "    </tr>\n",
       "    <tr>\n",
       "      <th>7</th>\n",
       "      <td>325000.0</td>\n",
       "      <td>4.869987e+05</td>\n",
       "    </tr>\n",
       "    <tr>\n",
       "      <th>8</th>\n",
       "      <td>849900.0</td>\n",
       "      <td>6.896140e+05</td>\n",
       "    </tr>\n",
       "    <tr>\n",
       "      <th>9</th>\n",
       "      <td>1050000.0</td>\n",
       "      <td>9.214784e+05</td>\n",
       "    </tr>\n",
       "  </tbody>\n",
       "</table>\n",
       "</div>"
      ],
      "text/plain": [
       "         ACT          PRED\n",
       "0   835000.0  8.959907e+05\n",
       "1   909000.0  9.793880e+05\n",
       "2   435000.0  5.097504e+05\n",
       "3   284900.0  2.851412e+05\n",
       "4   495000.0  6.605050e+05\n",
       "5  1325000.0  1.133468e+06\n",
       "6  1182000.0  1.504414e+06\n",
       "7   325000.0  4.869987e+05\n",
       "8   849900.0  6.896140e+05\n",
       "9  1050000.0  9.214784e+05"
      ]
     },
     "execution_count": 11,
     "metadata": {},
     "output_type": "execute_result"
    }
   ],
   "source": [
    "nndf.rename({0:'ACT'}, axis=1, inplace=True)\n",
    "nndf.head(10)"
   ]
  },
  {
   "cell_type": "code",
   "execution_count": 12,
   "metadata": {},
   "outputs": [],
   "source": [
    "# predict all residential houses including unqualified housing.Drop all machine-learning-unrelated features including 'PRICE'. \n",
    "# Keep the index 'Unnamed: 0' for further join\n",
    "data_predict_all = data_res.drop(['NUM_UNITS','AYB','YR_RMDL','SALE_NUM','BLDG_NUM','GIS_LAST_MOD_DTTM','CMPLX_NUM','LIVING_GBA','CITY',\n",
    "                    'STATE','NATIONALGRID','FULLADDRESS','ASSESSMENT_NBHD','ASSESSMENT_SUBNBHD','CENSUS_TRACT','CENSUS_BLOCK',\n",
    "                    'WARD','SQUARE','X','Y','SOURCE','QUALIFIED','LATITUDE','LONGITUDE', 'STYLE','SALEDATE','PRICE'], axis=1)"
   ]
  },
  {
   "cell_type": "code",
   "execution_count": 13,
   "metadata": {},
   "outputs": [],
   "source": [
    "data_predict_all_no_null=data_predict_all.dropna()"
   ]
  },
  {
   "cell_type": "code",
   "execution_count": 14,
   "metadata": {},
   "outputs": [
    {
     "name": "stdout",
     "output_type": "stream",
     "text": [
      "Unnamed: 0\n",
      "STRUCT_Vacant Land\n",
      "EXTWALL_Adobe\n",
      "EXTWALL_Plywood\n",
      "EXTWALL_Rustic Log\n",
      "EXTWALL_SPlaster\n",
      "ROOF_Concrete Tile\n",
      "ROOF_Water Proof\n",
      "INTWALL_Vinyl Sheet\n",
      "USECODE_41\n",
      "USECODE_81\n",
      "USECODE_83\n",
      "ZIPCODE_20006.0\n",
      "ZIPCODE_20052.0\n"
     ]
    }
   ],
   "source": [
    "# find values weren't in the machine learning model\n",
    "data_encoding_tem=data_predict_all_no_null.replace(encoding)\n",
    "data_dummy_tem = pd.get_dummies(data_encoding_tem, columns=['HEAT','AC','STRUCT','EXTWALL','ROOF','INTWALL','USECODE',\n",
    "                                                    'ZIPCODE','QUADRANT'])\n",
    "data_ml_columns=list(data_ml_dummy.drop('PRICE', axis=1).columns)\n",
    "data_columns=list(data_dummy_tem.columns)\n",
    "for column in data_columns:\n",
    "    if column not in data_ml_columns:\n",
    "        print (column)"
   ]
  },
  {
   "cell_type": "code",
   "execution_count": 15,
   "metadata": {},
   "outputs": [],
   "source": [
    "# delete rows with values weren't in the machine learning model\n",
    "df = data_predict_all_no_null[(data_predict_all_no_null[\"STRUCT\"] != 'Vacant Land') & \n",
    "                              (data_predict_all_no_null[\"EXTWALL\"] != 'Adobe') & \n",
    "                              (data_predict_all_no_null[\"EXTWALL\"] != 'Plywood') & \n",
    "                              (data_predict_all_no_null[\"EXTWALL\"] != 'Rustic Log') & \n",
    "                              (data_predict_all_no_null[\"EXTWALL\"] != 'SPlaster') & \n",
    "                              (data_predict_all_no_null[\"ROOF\"] != 'Concrete Tile') & \n",
    "                              (data_predict_all_no_null[\"ROOF\"] != 'Water Proof') & \n",
    "                              (data_predict_all_no_null[\"INTWALL\"] != 'Vinyl Sheet') & \n",
    "                              (data_predict_all_no_null[\"USECODE\"] != 41) & \n",
    "                              (data_predict_all_no_null[\"USECODE\"] != 81) & \n",
    "                              (data_predict_all_no_null[\"USECODE\"] != 83) & \n",
    "                              (data_predict_all_no_null[\"ZIPCODE\"] != 20006.0) &\n",
    "                              (data_predict_all_no_null[\"ZIPCODE\"] != 20052.0) ]"
   ]
  },
  {
   "cell_type": "code",
   "execution_count": 16,
   "metadata": {},
   "outputs": [],
   "source": [
    "# encoding and make dummies\n",
    "df_no_index = df.drop('Unnamed: 0', axis=1)\n",
    "df_encoding = df_no_index.replace(encoding)\n",
    "df_dummy = pd.get_dummies(df_encoding, columns=['HEAT','AC','STRUCT','EXTWALL','ROOF','INTWALL','USECODE','ZIPCODE',\n",
    "                                                'QUADRANT'])"
   ]
  },
  {
   "cell_type": "code",
   "execution_count": 17,
   "metadata": {},
   "outputs": [
    {
     "data": {
      "text/plain": [
       "array([1449524.7       , 1475481.25      , 2086612.425     , ...,\n",
       "        213444.96666667,  355013.10666667,  375889.145     ])"
      ]
     },
     "execution_count": 17,
     "metadata": {},
     "output_type": "execute_result"
    }
   ],
   "source": [
    "X_pre_all = df_dummy.values\n",
    "X_pre_all_scaled = X_scaler.transform(X_pre_all)\n",
    "Y_Pre_all=rf.predict(X_pre_all_scaled)\n",
    "Y_Pre_all"
   ]
  },
  {
   "cell_type": "code",
   "execution_count": 18,
   "metadata": {},
   "outputs": [
    {
     "name": "stderr",
     "output_type": "stream",
     "text": [
      "C:\\Users\\gq_wh\\Anaconda3\\lib\\site-packages\\ipykernel_launcher.py:1: SettingWithCopyWarning: \n",
      "A value is trying to be set on a copy of a slice from a DataFrame.\n",
      "Try using .loc[row_indexer,col_indexer] = value instead\n",
      "\n",
      "See the caveats in the documentation: http://pandas.pydata.org/pandas-docs/stable/indexing.html#indexing-view-versus-copy\n",
      "  \"\"\"Entry point for launching an IPython kernel.\n"
     ]
    }
   ],
   "source": [
    "df['PRICE']=Y_Pre_all"
   ]
  },
  {
   "cell_type": "code",
   "execution_count": 19,
   "metadata": {},
   "outputs": [],
   "source": [
    "df_index_price=df[['Unnamed: 0','PRICE']]"
   ]
  },
  {
   "cell_type": "code",
   "execution_count": 20,
   "metadata": {},
   "outputs": [],
   "source": [
    "final_pre = pd.merge(data_DC, df_index_price, on='Unnamed: 0', how='inner')"
   ]
  },
  {
   "cell_type": "code",
   "execution_count": 21,
   "metadata": {},
   "outputs": [],
   "source": [
    "final_pre.to_csv(\"final predicted.csv\")"
   ]
  },
  {
   "cell_type": "code",
   "execution_count": null,
   "metadata": {},
   "outputs": [],
   "source": []
  }
 ],
 "metadata": {
  "kernelspec": {
   "display_name": "Python 3",
   "language": "python",
   "name": "python3"
  },
  "language_info": {
   "codemirror_mode": {
    "name": "ipython",
    "version": 3
   },
   "file_extension": ".py",
   "mimetype": "text/x-python",
   "name": "python",
   "nbconvert_exporter": "python",
   "pygments_lexer": "ipython3",
   "version": "3.7.1"
  }
 },
 "nbformat": 4,
 "nbformat_minor": 2
}
